{
 "cells": [
  {
   "cell_type": "code",
   "execution_count": 1,
   "metadata": {
    "execution": {
     "iopub.execute_input": "2022-07-16T00:25:27.232856Z",
     "iopub.status.busy": "2022-07-16T00:25:27.231873Z",
     "iopub.status.idle": "2022-07-16T00:25:29.506242Z",
     "shell.execute_reply": "2022-07-16T00:25:29.505231Z",
     "shell.execute_reply.started": "2022-07-16T00:25:27.232745Z"
    }
   },
   "outputs": [],
   "source": [
    "import os\n",
    "import numpy as np\n",
    "import pandas as pd\n",
    "\n",
    "import torch\n",
    "import torch.nn as nn\n",
    "from torchvision import models\n",
    "import torchvision.transforms as transforms\n",
    "from torch.utils.data import DataLoader, Dataset\n",
    "\n",
    "from PIL import Image\n",
    "from tqdm import tqdm\n",
    "import matplotlib.pyplot as plt\n",
    "import random"
   ]
  },
  {
   "cell_type": "code",
   "execution_count": null,
   "metadata": {},
   "outputs": [],
   "source": [
    "def set_seed(seed):\n",
    "    torch.manual_seed(seed)\n",
    "    torch.cuda.manual_seed_all(seed)\n",
    "    torch.backends.cudnn.deterministic = True\n",
    "    \n",
    "    random.seed(seed)\n",
    "    np.random.seed(seed)"
   ]
  },
  {
   "cell_type": "code",
   "execution_count": null,
   "metadata": {},
   "outputs": [],
   "source": [
    "seed = 114514\n",
    "set_seed(seed = seed)"
   ]
  },
  {
   "cell_type": "code",
   "execution_count": 1,
   "metadata": {
    "execution": {
     "iopub.execute_input": "2022-07-15T14:49:28.269509Z",
     "iopub.status.busy": "2022-07-15T14:49:28.268821Z",
     "iopub.status.idle": "2022-07-15T14:49:28.985556Z",
     "shell.execute_reply": "2022-07-15T14:49:28.984315Z",
     "shell.execute_reply.started": "2022-07-15T14:49:28.269471Z"
    }
   },
   "outputs": [
    {
     "name": "stdout",
     "output_type": "stream",
     "text": [
      "Fri Aug  5 11:41:51 2022       \n",
      "+-----------------------------------------------------------------------------+\n",
      "| NVIDIA-SMI 512.78       Driver Version: 512.78       CUDA Version: 11.6     |\n",
      "|-------------------------------+----------------------+----------------------+\n",
      "| GPU  Name            TCC/WDDM | Bus-Id        Disp.A | Volatile Uncorr. ECC |\n",
      "| Fan  Temp  Perf  Pwr:Usage/Cap|         Memory-Usage | GPU-Util  Compute M. |\n",
      "|                               |                      |               MIG M. |\n",
      "|===============================+======================+======================|\n",
      "|   0  NVIDIA GeForce ... WDDM  | 00000000:01:00.0  On |                  N/A |\n",
      "| N/A   58C    P8     6W /  N/A |    603MiB /  6144MiB |     36%      Default |\n",
      "|                               |                      |                  N/A |\n",
      "+-------------------------------+----------------------+----------------------+\n",
      "                                                                               \n",
      "+-----------------------------------------------------------------------------+\n",
      "| Processes:                                                                  |\n",
      "|  GPU   GI   CI        PID   Type   Process name                  GPU Memory |\n",
      "|        ID   ID                                                   Usage      |\n",
      "|=============================================================================|\n",
      "|    0   N/A  N/A      1684    C+G   ...er_engine\\wallpaper32.exe    N/A      |\n",
      "|    0   N/A  N/A      2092    C+G   ...icrosoft VS Code\\Code.exe    N/A      |\n",
      "|    0   N/A  N/A      8656    C+G   C:\\Windows\\explorer.exe         N/A      |\n",
      "|    0   N/A  N/A     10792    C+G   ...5n1h2txyewy\\SearchApp.exe    N/A      |\n",
      "|    0   N/A  N/A     10908    C+G   ...tracted\\WechatBrowser.exe    N/A      |\n",
      "|    0   N/A  N/A     11680    C+G   ...bbwe\\Microsoft.Photos.exe    N/A      |\n",
      "|    0   N/A  N/A     11808    C+G   ...cw5n1h2txyewy\\LockApp.exe    N/A      |\n",
      "|    0   N/A  N/A     12848    C+G   ...lPanel\\SystemSettings.exe    N/A      |\n",
      "|    0   N/A  N/A     13268    C+G   ...ystemEventUtilityHost.exe    N/A      |\n",
      "|    0   N/A  N/A     13608    C+G   ...2txyewy\\TextInputHost.exe    N/A      |\n",
      "|    0   N/A  N/A     13892    C+G   ...e\\PhoneExperienceHost.exe    N/A      |\n",
      "|    0   N/A  N/A     15468    C+G   ...d\\runtime\\WeChatAppEx.exe    N/A      |\n",
      "|    0   N/A  N/A     17224    C+G   ...y\\ShellExperienceHost.exe    N/A      |\n",
      "|    0   N/A  N/A     17256    C+G   ...4__8wekyb3d8bbwe\\Time.exe    N/A      |\n",
      "+-----------------------------------------------------------------------------+\n"
     ]
    }
   ],
   "source": [
    "!nvidia-smi"
   ]
  },
  {
   "cell_type": "code",
   "execution_count": 4,
   "metadata": {
    "execution": {
     "iopub.execute_input": "2022-07-16T00:25:34.351147Z",
     "iopub.status.busy": "2022-07-16T00:25:34.350747Z",
     "iopub.status.idle": "2022-07-16T00:25:34.362165Z",
     "shell.execute_reply": "2022-07-16T00:25:34.361206Z",
     "shell.execute_reply.started": "2022-07-16T00:25:34.351113Z"
    }
   },
   "outputs": [],
   "source": [
    "class Paddy(Dataset):\n",
    "    def __init__(self, files_name, transform, mode = \"train\"):\n",
    "        super(Paddy).__init__()\n",
    "        self.tfm = transform\n",
    "        self.mode = mode\n",
    "        self.paddy_dict = {'bacterial_leaf_blight': 0, 'bacterial_leaf_streak': 1, 'bacterial_panicle_blight': 2, \\\n",
    "            'blast': 3, 'brown_spot': 4, 'dead_heart': 5, 'downy_mildew': 6, 'hispa': 7, 'normal': 8, 'tungro': 9}\n",
    "        self.files_name = files_name\n",
    "\n",
    "    def __len__(self):\n",
    "        return len(self.files_name)\n",
    "    \n",
    "    def __getitem__(self, idx):\n",
    "        file_name = self.files_name[idx]\n",
    "        im = self.tfm(Image.open(file_name))\n",
    "        if self.mode == \"train\":\n",
    "            label = self.paddy_dict[file_name.split(\"/\")[-2]]\n",
    "        else:\n",
    "            label = -1\n",
    "        return im, label"
   ]
  },
  {
   "cell_type": "code",
   "execution_count": 5,
   "metadata": {
    "execution": {
     "iopub.execute_input": "2022-07-16T00:25:36.826038Z",
     "iopub.status.busy": "2022-07-16T00:25:36.824894Z",
     "iopub.status.idle": "2022-07-16T00:25:36.834357Z",
     "shell.execute_reply": "2022-07-16T00:25:36.833432Z",
     "shell.execute_reply.started": "2022-07-16T00:25:36.825965Z"
    }
   },
   "outputs": [],
   "source": [
    "train_transform = transforms.Compose([\n",
    "    transforms.RandomResizedCrop((224, 224), scale=(0.8, 1.0)),\n",
    "    transforms.RandomVerticalFlip(),\n",
    "    transforms.RandomHorizontalFlip(),\n",
    "    transforms.RandomRotation(180),\n",
    "    transforms.ToTensor(),\n",
    "    transforms.Normalize((0.485, 0.456, 0.406), (0.229, 0.224, 0.225)),\n",
    "])\n",
    "\n",
    "test_transform = transforms.Compose([\n",
    "    transforms.Resize((224, 224)),\n",
    "    transforms.ToTensor(),\n",
    "    transforms.Normalize((0.485, 0.456, 0.406), (0.229, 0.224, 0.225)),\n",
    "])"
   ]
  },
  {
   "cell_type": "code",
   "execution_count": 6,
   "metadata": {
    "execution": {
     "iopub.execute_input": "2022-07-16T00:25:38.643616Z",
     "iopub.status.busy": "2022-07-16T00:25:38.643267Z",
     "iopub.status.idle": "2022-07-16T00:25:38.649895Z",
     "shell.execute_reply": "2022-07-16T00:25:38.648916Z",
     "shell.execute_reply.started": "2022-07-16T00:25:38.643584Z"
    }
   },
   "outputs": [
    {
     "name": "stdout",
     "output_type": "stream",
     "text": [
      "cuda\n"
     ]
    }
   ],
   "source": [
    "### Configuration\n",
    "batch_size = 64\n",
    "n_epochs = 120\n",
    "learning_rate = 0.001\n",
    "K_fold = 5\n",
    "early_stopping_count = 24\n",
    "best_model_save_path = \"./models\"\n",
    "\n",
    "if torch.cuda.is_available():\n",
    "    device = 'cuda'\n",
    "else:\n",
    "    device = 'cpu'\n",
    "print(device)"
   ]
  },
  {
   "cell_type": "code",
   "execution_count": 7,
   "metadata": {
    "execution": {
     "iopub.execute_input": "2022-07-16T00:25:40.268348Z",
     "iopub.status.busy": "2022-07-16T00:25:40.267884Z",
     "iopub.status.idle": "2022-07-16T00:25:40.902130Z",
     "shell.execute_reply": "2022-07-16T00:25:40.901066Z",
     "shell.execute_reply.started": "2022-07-16T00:25:40.268307Z"
    }
   },
   "outputs": [],
   "source": [
    "### Train_path is \"paddy-disease-classification\"; Test_path is \"test_images\"\n",
    "Train_path = './'\n",
    "Test_path = './test_images'\n",
    "\n",
    "train_files_name = []\n",
    "train_info = pd.read_csv(f'{Train_path}train.csv')\n",
    "for index, row in train_info.iterrows():\n",
    "    train_files_name.append(f'{Train_path}train_images/{row[\"label\"]}/{row[\"image_id\"]}')\n",
    "random.shuffle(train_files_name)\n",
    "    \n",
    "test_files_name = []\n",
    "for image in os.listdir(Test_path):\n",
    "    test_files_name.append(f'{Test_path}/{image}')"
   ]
  },
  {
   "cell_type": "code",
   "execution_count": 8,
   "metadata": {
    "execution": {
     "iopub.execute_input": "2022-07-16T00:06:13.886941Z",
     "iopub.status.busy": "2022-07-16T00:06:13.886408Z",
     "iopub.status.idle": "2022-07-16T00:06:13.905457Z",
     "shell.execute_reply": "2022-07-16T00:06:13.904239Z",
     "shell.execute_reply.started": "2022-07-16T00:06:13.886919Z"
    }
   },
   "outputs": [],
   "source": [
    "Train_set = []\n",
    "Val_set = []\n",
    "set_num = len(train_files_name) // K_fold\n",
    "for i in range(K_fold):\n",
    "    Train_set.append(train_files_name[: i * set_num] + train_files_name[(i + 1) * set_num :])\n",
    "    Val_set.append(train_files_name[i * set_num : (i + 1) * set_num])"
   ]
  },
  {
   "cell_type": "code",
   "execution_count": 20,
   "metadata": {
    "execution": {
     "iopub.execute_input": "2022-07-16T00:06:15.946619Z",
     "iopub.status.busy": "2022-07-16T00:06:15.946254Z",
     "iopub.status.idle": "2022-07-16T00:06:16.031412Z",
     "shell.execute_reply": "2022-07-16T00:06:16.029588Z",
     "shell.execute_reply.started": "2022-07-16T00:06:15.946592Z"
    }
   },
   "outputs": [],
   "source": [
    "def train():\n",
    "    for i in range(K_fold):\n",
    "        print(f\"###################### Processing fold: {i} ###################### \\n\")\n",
    "        model = models.resnet34(pretrained = True)\n",
    "        model.fc = nn.Sequential(\n",
    "            nn.Dropout(0.2),\n",
    "            nn.Linear(model.fc.in_features, 10)\n",
    "        )\n",
    "        model = model.to(device)\n",
    "        \n",
    "        optimizer = torch.optim.Adam(model.parameters(), lr = learning_rate, weight_decay=0.00001)\n",
    "        #scheduler = torch.optim.lr_scheduler.CosineAnnealingWarmRestarts(optimizer, T_0 = 12, T_mult = 1)\n",
    "        scheduler = torch.optim.lr_scheduler.CyclicLR(optimizer, base_lr = 1e-5, max_lr = 0.001, step_size_up = 4, mode=\"triangular2\")\n",
    "        criterion = nn.CrossEntropyLoss()\n",
    "\n",
    "        train_data = Paddy(files_name = Train_set[i], transform = train_transform, mode = \"train\")\n",
    "        val_data = Paddy(files_name = Val_set[i], transform = test_transform, mode = \"train\")\n",
    "\n",
    "        train_loader = DataLoader(train_data, batch_size = batch_size, shuffle = True, num_workers = 4, pin_memory = True)\n",
    "        val_loader = DataLoader(val_data, batch_size = batch_size, shuffle = True, num_workers = 4, pin_memory = True)\n",
    "        \n",
    "        with open('./record.txt', 'a') as f:\n",
    "            f.write(f'Fold: {i + 1}\\n')\n",
    "\n",
    "        Acc = 0.\n",
    "        stopping_count = 0\n",
    "        for epoch in range(n_epochs):\n",
    "            train_loss = []\n",
    "            train_acc = []\n",
    "            val_loss = []\n",
    "            val_acc = []\n",
    "\n",
    "            model.train()\n",
    "            pbar = tqdm(train_loader, ncols = 120)\n",
    "\n",
    "            for images, labels in pbar:\n",
    "                optimizer.zero_grad()\n",
    "\n",
    "                images, labels = images.to(device), labels.to(device)\n",
    "\n",
    "                prediction = model(images)\n",
    "                loss = criterion(prediction, labels)\n",
    "                loss.backward()\n",
    "                nn.utils.clip_grad_norm_(model.parameters(), max_norm = 20)\n",
    "                optimizer.step()\n",
    "\n",
    "                train_loss.append(loss.detach().item())\n",
    "\n",
    "                ### [batch_size * 10]\n",
    "                train_acc.append((prediction.argmax(dim = 1).flatten() == labels.flatten()).float().mean().item())\n",
    "\n",
    "                pbar.set_description(f\"Processing train epoch [{epoch + 1} / {n_epochs}]\")\n",
    "                pbar.set_postfix({'Train loss': '{0:1.5f}'.format(sum(train_loss) / len(train_loss)), \\\n",
    "                                  'Train accuracy': '{0:1.5f}'.format(sum(train_acc) / len(train_acc))})    \n",
    "\n",
    "            scheduler.step()\n",
    "\n",
    "\n",
    "            ### Validation Part\n",
    "            model.eval()\n",
    "            pbar = tqdm(val_loader, ncols = 120)\n",
    "\n",
    "            for images, labels in pbar:\n",
    "                images, labels = images.to(device), labels.to(device)\n",
    "\n",
    "                with torch.no_grad():\n",
    "                    prediction = model(images)\n",
    "                    loss = criterion(prediction, labels)\n",
    "\n",
    "                val_loss.append(loss.detach().item())\n",
    "\n",
    "                ### [batch_size * 10]\n",
    "                val_acc.append((prediction.argmax(dim = 1).flatten() == labels.flatten()).float().mean().item())\n",
    "\n",
    "                pbar.set_description(f\"Processing validation epoch [{epoch + 1} / {n_epochs}]\")\n",
    "                pbar.set_postfix({'Val loss': '{0:1.5f}'.format(sum(val_loss) / len(val_loss)), \\\n",
    "                                  'Val accuracy': '{0:1.5f}'.format(sum(val_acc) / len(val_acc))})\n",
    "\n",
    "            Val_acc = sum(val_acc) / len(val_acc)\n",
    "\n",
    "            with open('./record.txt', 'a') as f:\n",
    "                f.write(f\"Processing train epoch [{epoch + 1} / {n_epochs}]\\n\")\n",
    "                f.write(f'Train loss: {sum(train_loss) / len(train_loss)}\\n')\n",
    "                f.write(f'Train acc: {sum(train_acc) / len(train_acc)}\\n')\n",
    "                f.write(f'Val loss: {sum(val_loss) / len(val_loss)}\\n')\n",
    "                f.write(f'Val acc: {sum(val_acc) / len(val_acc)}\\n')\n",
    "\n",
    "            if Val_acc > Acc:\n",
    "                Acc = Val_acc\n",
    "                print(f'Find the best model in Fold {i + 1}')\n",
    "                model_path = best_model_save_path + 'Fold_' + str(i + 1) + '.ckpt'\n",
    "                torch.save(model.state_dict(), model_path)\n",
    "                stopping_count = 0\n",
    "            else:\n",
    "                stopping_count += 1\n",
    "                if stopping_count >= early_stopping_count:\n",
    "                    print(\"###################### Early stopped ###################### \\n\")\n",
    "                    break"
   ]
  },
  {
   "cell_type": "code",
   "execution_count": null,
   "metadata": {
    "execution": {
     "iopub.execute_input": "2022-07-15T14:49:29.854108Z",
     "iopub.status.busy": "2022-07-15T14:49:29.853198Z",
     "iopub.status.idle": "2022-07-15T14:49:37.303441Z",
     "shell.execute_reply": "2022-07-15T14:49:37.302061Z",
     "shell.execute_reply.started": "2022-07-15T14:49:29.854071Z"
    },
    "scrolled": false
   },
   "outputs": [
    {
     "name": "stdout",
     "output_type": "stream",
     "text": [
      "###################### Processing fold: 0 ###################### \n",
      "\n"
     ]
    },
    {
     "name": "stderr",
     "output_type": "stream",
     "text": [
      "Processing train epoch [1 / 120]: 100%|███| 131/131 [00:51<00:00,  2.55it/s, Train loss=1.19140, Train accuracy=0.59681]\n",
      "Processing validation epoch [1 / 120]: 100%|████| 33/33 [00:12<00:00,  2.61it/s, Val loss=1.38126, Val accuracy=0.58939]\n"
     ]
    },
    {
     "name": "stdout",
     "output_type": "stream",
     "text": [
      "Find the best model in Fold 1\n"
     ]
    },
    {
     "name": "stderr",
     "output_type": "stream",
     "text": [
      "Processing train epoch [2 / 120]: 100%|███| 131/131 [00:25<00:00,  5.11it/s, Train loss=0.74685, Train accuracy=0.74571]\n",
      "Processing validation epoch [2 / 120]: 100%|████| 33/33 [00:06<00:00,  5.10it/s, Val loss=0.79601, Val accuracy=0.74277]\n"
     ]
    },
    {
     "name": "stdout",
     "output_type": "stream",
     "text": [
      "Find the best model in Fold 1\n"
     ]
    },
    {
     "name": "stderr",
     "output_type": "stream",
     "text": [
      "Processing train epoch [3 / 120]: 100%|███| 131/131 [00:25<00:00,  5.17it/s, Train loss=0.59342, Train accuracy=0.80129]\n",
      "Processing validation epoch [3 / 120]: 100%|████| 33/33 [00:06<00:00,  5.17it/s, Val loss=1.46726, Val accuracy=0.61078]\n",
      "Processing train epoch [4 / 120]: 100%|███| 131/131 [00:25<00:00,  5.15it/s, Train loss=0.41817, Train accuracy=0.85790]\n",
      "Processing validation epoch [4 / 120]: 100%|████| 33/33 [00:06<00:00,  5.48it/s, Val loss=0.57628, Val accuracy=0.80741]\n"
     ]
    },
    {
     "name": "stdout",
     "output_type": "stream",
     "text": [
      "Find the best model in Fold 1\n"
     ]
    },
    {
     "name": "stderr",
     "output_type": "stream",
     "text": [
      "Processing train epoch [5 / 120]: 100%|███| 131/131 [00:26<00:00,  5.02it/s, Train loss=0.37980, Train accuracy=0.87647]\n",
      "Processing validation epoch [5 / 120]: 100%|████| 33/33 [00:06<00:00,  5.43it/s, Val loss=0.41542, Val accuracy=0.85810]\n"
     ]
    },
    {
     "name": "stdout",
     "output_type": "stream",
     "text": [
      "Find the best model in Fold 1\n"
     ]
    },
    {
     "name": "stderr",
     "output_type": "stream",
     "text": [
      "Processing train epoch [6 / 120]: 100%|███| 131/131 [00:25<00:00,  5.11it/s, Train loss=0.29498, Train accuracy=0.90498]\n",
      "Processing validation epoch [6 / 120]: 100%|████| 33/33 [00:06<00:00,  5.40it/s, Val loss=0.36612, Val accuracy=0.88740]\n"
     ]
    },
    {
     "name": "stdout",
     "output_type": "stream",
     "text": [
      "Find the best model in Fold 1\n"
     ]
    },
    {
     "name": "stderr",
     "output_type": "stream",
     "text": [
      "Processing train epoch [7 / 120]: 100%|███| 131/131 [00:26<00:00,  5.03it/s, Train loss=0.21118, Train accuracy=0.93146]\n",
      "Processing validation epoch [7 / 120]: 100%|████| 33/33 [00:06<00:00,  5.19it/s, Val loss=0.36189, Val accuracy=0.88592]\n",
      "Processing train epoch [8 / 120]: 100%|███| 131/131 [00:25<00:00,  5.13it/s, Train loss=0.16267, Train accuracy=0.94633]\n",
      "Processing validation epoch [8 / 120]: 100%|████| 33/33 [00:06<00:00,  5.41it/s, Val loss=0.19839, Val accuracy=0.94558]\n"
     ]
    },
    {
     "name": "stdout",
     "output_type": "stream",
     "text": [
      "Find the best model in Fold 1\n"
     ]
    },
    {
     "name": "stderr",
     "output_type": "stream",
     "text": [
      "Processing train epoch [9 / 120]: 100%|███| 131/131 [00:25<00:00,  5.13it/s, Train loss=0.12734, Train accuracy=0.96100]\n",
      "Processing validation epoch [9 / 120]: 100%|████| 33/33 [00:06<00:00,  5.23it/s, Val loss=0.16610, Val accuracy=0.94655]\n"
     ]
    },
    {
     "name": "stdout",
     "output_type": "stream",
     "text": [
      "Find the best model in Fold 1\n"
     ]
    },
    {
     "name": "stderr",
     "output_type": "stream",
     "text": [
      "Processing train epoch [10 / 120]: 100%|██| 131/131 [00:25<00:00,  5.19it/s, Train loss=0.09086, Train accuracy=0.97141]\n",
      "Processing validation epoch [10 / 120]: 100%|███| 33/33 [00:06<00:00,  5.09it/s, Val loss=0.13429, Val accuracy=0.96404]\n"
     ]
    },
    {
     "name": "stdout",
     "output_type": "stream",
     "text": [
      "Find the best model in Fold 1\n"
     ]
    },
    {
     "name": "stderr",
     "output_type": "stream",
     "text": [
      "Processing train epoch [11 / 120]: 100%|██| 131/131 [00:25<00:00,  5.15it/s, Train loss=0.07045, Train accuracy=0.97913]\n",
      "Processing validation epoch [11 / 120]: 100%|███| 33/33 [00:06<00:00,  5.28it/s, Val loss=0.12685, Val accuracy=0.96212]\n",
      "Processing train epoch [12 / 120]: 100%|██| 131/131 [00:25<00:00,  5.13it/s, Train loss=0.06973, Train accuracy=0.97774]\n",
      "Processing validation epoch [12 / 120]: 100%|███| 33/33 [00:06<00:00,  5.29it/s, Val loss=0.12711, Val accuracy=0.96404]\n",
      "Processing train epoch [13 / 120]: 100%|██| 131/131 [00:25<00:00,  5.21it/s, Train loss=0.46435, Train accuracy=0.85059]\n",
      "Processing validation epoch [13 / 120]: 100%|███| 33/33 [00:06<00:00,  5.30it/s, Val loss=0.67486, Val accuracy=0.79515]\n",
      "Processing train epoch [14 / 120]: 100%|██| 131/131 [00:25<00:00,  5.07it/s, Train loss=0.35697, Train accuracy=0.88251]\n",
      "Processing validation epoch [14 / 120]: 100%|███| 33/33 [00:06<00:00,  5.50it/s, Val loss=0.41848, Val accuracy=0.86088]\n",
      "Processing train epoch [15 / 120]: 100%|██| 131/131 [00:25<00:00,  5.17it/s, Train loss=0.30841, Train accuracy=0.89508]\n",
      "Processing validation epoch [15 / 120]: 100%|███| 33/33 [00:06<00:00,  5.48it/s, Val loss=0.30416, Val accuracy=0.90021]\n",
      "Processing train epoch [16 / 120]: 100%|██| 131/131 [00:25<00:00,  5.09it/s, Train loss=0.23402, Train accuracy=0.92132]\n",
      "Processing validation epoch [16 / 120]: 100%|███| 33/33 [00:06<00:00,  5.33it/s, Val loss=0.30018, Val accuracy=0.90776]\n",
      "Processing train epoch [17 / 120]: 100%|██| 131/131 [00:25<00:00,  5.23it/s, Train loss=0.17310, Train accuracy=0.94116]\n",
      "Processing validation epoch [17 / 120]: 100%|███| 33/33 [00:05<00:00,  5.53it/s, Val loss=0.23383, Val accuracy=0.92480]\n",
      "Processing train epoch [18 / 120]: 100%|██| 131/131 [00:25<00:00,  5.15it/s, Train loss=0.15297, Train accuracy=0.95070]\n",
      "Processing validation epoch [18 / 120]: 100%|███| 33/33 [00:06<00:00,  5.44it/s, Val loss=0.16329, Val accuracy=0.94525]\n",
      "Processing train epoch [19 / 120]: 100%|██| 131/131 [00:25<00:00,  5.10it/s, Train loss=0.12647, Train accuracy=0.95885]\n",
      "Processing validation epoch [19 / 120]: 100%|███| 33/33 [00:06<00:00,  5.30it/s, Val loss=0.15127, Val accuracy=0.95176]\n",
      "Processing train epoch [20 / 120]: 100%|██| 131/131 [00:25<00:00,  5.16it/s, Train loss=0.08677, Train accuracy=0.97189]\n",
      "Processing validation epoch [20 / 120]: 100%|███| 33/33 [00:06<00:00,  5.26it/s, Val loss=0.13407, Val accuracy=0.95555]\n",
      "Processing train epoch [21 / 120]: 100%|██| 131/131 [00:25<00:00,  5.16it/s, Train loss=0.07919, Train accuracy=0.97177]\n",
      "Processing validation epoch [21 / 120]: 100%|███| 33/33 [00:06<00:00,  5.49it/s, Val loss=0.10763, Val accuracy=0.96783]\n"
     ]
    },
    {
     "name": "stdout",
     "output_type": "stream",
     "text": [
      "Find the best model in Fold 1\n"
     ]
    },
    {
     "name": "stderr",
     "output_type": "stream",
     "text": [
      "Processing train epoch [22 / 120]: 100%|██| 131/131 [00:25<00:00,  5.18it/s, Train loss=0.05847, Train accuracy=0.98032]\n",
      "Processing validation epoch [22 / 120]: 100%|███| 33/33 [00:06<00:00,  5.08it/s, Val loss=0.09771, Val accuracy=0.97351]\n"
     ]
    },
    {
     "name": "stdout",
     "output_type": "stream",
     "text": [
      "Find the best model in Fold 1\n"
     ]
    },
    {
     "name": "stderr",
     "output_type": "stream",
     "text": [
      "Processing train epoch [23 / 120]: 100%|██| 131/131 [00:25<00:00,  5.06it/s, Train loss=0.04503, Train accuracy=0.98581]\n",
      "Processing validation epoch [23 / 120]: 100%|███| 33/33 [00:06<00:00,  5.36it/s, Val loss=0.09653, Val accuracy=0.97446]\n"
     ]
    },
    {
     "name": "stdout",
     "output_type": "stream",
     "text": [
      "Find the best model in Fold 1\n"
     ]
    },
    {
     "name": "stderr",
     "output_type": "stream",
     "text": [
      "Processing train epoch [24 / 120]: 100%|██| 131/131 [00:25<00:00,  5.11it/s, Train loss=0.04161, Train accuracy=0.98700]\n",
      "Processing validation epoch [24 / 120]: 100%|███| 33/33 [00:06<00:00,  5.40it/s, Val loss=0.09740, Val accuracy=0.97446]\n",
      "Processing train epoch [25 / 120]: 100%|██| 131/131 [00:25<00:00,  5.08it/s, Train loss=0.28410, Train accuracy=0.90856]\n",
      "Processing validation epoch [25 / 120]: 100%|███| 33/33 [00:05<00:00,  5.53it/s, Val loss=0.44108, Val accuracy=0.86331]\n",
      "Processing train epoch [26 / 120]: 100%|██| 131/131 [00:25<00:00,  5.15it/s, Train loss=0.34279, Train accuracy=0.88844]\n",
      "Processing validation epoch [26 / 120]: 100%|███| 33/33 [00:06<00:00,  5.30it/s, Val loss=0.36457, Val accuracy=0.89639]\n",
      "Processing train epoch [27 / 120]: 100%|██| 131/131 [00:25<00:00,  5.06it/s, Train loss=0.21076, Train accuracy=0.92915]\n",
      "Processing validation epoch [27 / 120]: 100%|███| 33/33 [00:06<00:00,  5.04it/s, Val loss=0.27452, Val accuracy=0.91383]\n",
      "Processing train epoch [28 / 120]: 100%|██| 131/131 [00:25<00:00,  5.10it/s, Train loss=0.14652, Train accuracy=0.94959]\n",
      "Processing validation epoch [28 / 120]: 100%|███| 33/33 [00:06<00:00,  5.33it/s, Val loss=0.18048, Val accuracy=0.95268]\n",
      "Processing train epoch [29 / 120]: 100%|██| 131/131 [00:26<00:00,  5.02it/s, Train loss=0.10975, Train accuracy=0.96219]\n",
      "Processing validation epoch [29 / 120]: 100%|███| 33/33 [00:06<00:00,  5.26it/s, Val loss=0.18283, Val accuracy=0.94037]\n",
      "Processing train epoch [30 / 120]: 100%|██| 131/131 [00:25<00:00,  5.15it/s, Train loss=0.08761, Train accuracy=0.96986]\n",
      "Processing validation epoch [30 / 120]: 100%|███| 33/33 [00:06<00:00,  5.40it/s, Val loss=0.13371, Val accuracy=0.95928]\n",
      "Processing train epoch [31 / 120]: 100%|██| 131/131 [00:25<00:00,  5.16it/s, Train loss=0.07986, Train accuracy=0.97066]\n",
      "Processing validation epoch [31 / 120]: 100%|███| 33/33 [00:06<00:00,  5.44it/s, Val loss=0.12667, Val accuracy=0.96307]\n",
      "Processing train epoch [32 / 120]: 100%|██| 131/131 [00:25<00:00,  5.13it/s, Train loss=0.08298, Train accuracy=0.97070]\n",
      "Processing validation epoch [32 / 120]: 100%|███| 33/33 [00:06<00:00,  5.22it/s, Val loss=0.11439, Val accuracy=0.96644]\n",
      "Processing train epoch [33 / 120]: 100%|██| 131/131 [00:25<00:00,  5.11it/s, Train loss=0.06719, Train accuracy=0.97734]\n",
      "Processing validation epoch [33 / 120]: 100%|███| 33/33 [00:06<00:00,  5.31it/s, Val loss=0.10422, Val accuracy=0.96925]\n",
      "Processing train epoch [34 / 120]: 100%|██| 131/131 [00:25<00:00,  5.11it/s, Train loss=0.04812, Train accuracy=0.98274]\n",
      "Processing validation epoch [34 / 120]: 100%|███| 33/33 [00:05<00:00,  5.54it/s, Val loss=0.09776, Val accuracy=0.97020]\n",
      "Processing train epoch [35 / 120]: 100%|██| 131/131 [00:25<00:00,  5.16it/s, Train loss=0.04743, Train accuracy=0.98430]\n",
      "Processing validation epoch [35 / 120]: 100%|███| 33/33 [00:05<00:00,  5.52it/s, Val loss=0.09641, Val accuracy=0.97257]\n",
      "Processing train epoch [36 / 120]: 100%|██| 131/131 [00:25<00:00,  5.16it/s, Train loss=0.03465, Train accuracy=0.98716]\n",
      "Processing validation epoch [36 / 120]: 100%|███| 33/33 [00:06<00:00,  5.29it/s, Val loss=0.09499, Val accuracy=0.97443]\n",
      "Processing train epoch [37 / 120]: 100%|██| 131/131 [00:25<00:00,  5.04it/s, Train loss=0.22497, Train accuracy=0.92808]\n",
      "Processing validation epoch [37 / 120]: 100%|███| 33/33 [00:06<00:00,  5.46it/s, Val loss=0.27921, Val accuracy=0.90837]\n",
      "Processing train epoch [38 / 120]: 100%|██| 131/131 [00:25<00:00,  5.08it/s, Train loss=0.24337, Train accuracy=0.91842]\n",
      "Processing validation epoch [38 / 120]: 100%|███| 33/33 [00:06<00:00,  5.17it/s, Val loss=0.27344, Val accuracy=0.91385]\n",
      "Processing train epoch [39 / 120]: 100%|██| 131/131 [00:25<00:00,  5.06it/s, Train loss=0.13968, Train accuracy=0.95619]\n",
      "Processing validation epoch [39 / 120]: 100%|███| 33/33 [00:06<00:00,  5.34it/s, Val loss=0.16821, Val accuracy=0.94984]\n",
      "Processing train epoch [40 / 120]: 100%|██| 131/131 [00:25<00:00,  5.20it/s, Train loss=0.14634, Train accuracy=0.94943]\n",
      "Processing validation epoch [40 / 120]: 100%|███| 33/33 [00:06<00:00,  5.36it/s, Val loss=0.24138, Val accuracy=0.92812]\n",
      "Processing train epoch [41 / 120]: 100%|██| 131/131 [00:25<00:00,  5.23it/s, Train loss=0.12840, Train accuracy=0.95567]\n",
      "Processing validation epoch [41 / 120]: 100%|███| 33/33 [00:06<00:00,  5.33it/s, Val loss=0.15454, Val accuracy=0.95460]\n",
      "Processing train epoch [42 / 120]: 100%|██| 131/131 [00:25<00:00,  5.12it/s, Train loss=0.08420, Train accuracy=0.97273]\n",
      "Processing validation epoch [42 / 120]: 100%|███| 33/33 [00:06<00:00,  5.37it/s, Val loss=0.15707, Val accuracy=0.95647]\n",
      "Processing train epoch [43 / 120]: 100%|██| 131/131 [00:25<00:00,  5.14it/s, Train loss=0.08805, Train accuracy=0.97169]\n",
      "Processing validation epoch [43 / 120]: 100%|███| 33/33 [00:06<00:00,  5.41it/s, Val loss=0.11447, Val accuracy=0.96925]\n",
      "Processing train epoch [44 / 120]: 100%|██| 131/131 [00:25<00:00,  5.18it/s, Train loss=0.06979, Train accuracy=0.97599]\n",
      "Processing validation epoch [44 / 120]: 100%|███| 33/33 [00:06<00:00,  5.37it/s, Val loss=0.13276, Val accuracy=0.96591]\n",
      "Processing train epoch [45 / 120]: 100%|██| 131/131 [00:25<00:00,  5.07it/s, Train loss=0.05880, Train accuracy=0.97980]\n",
      "Processing validation epoch [45 / 120]: 100%|███| 33/33 [00:06<00:00,  5.25it/s, Val loss=0.09967, Val accuracy=0.97730]\n"
     ]
    },
    {
     "name": "stdout",
     "output_type": "stream",
     "text": [
      "Find the best model in Fold 1\n"
     ]
    },
    {
     "name": "stderr",
     "output_type": "stream",
     "text": [
      "Processing train epoch [46 / 120]: 100%|██| 131/131 [00:25<00:00,  5.04it/s, Train loss=0.04634, Train accuracy=0.98441]\n",
      "Processing validation epoch [46 / 120]: 100%|███| 33/33 [00:06<00:00,  5.34it/s, Val loss=0.10524, Val accuracy=0.97499]\n",
      "Processing train epoch [47 / 120]: 100%|██| 131/131 [00:25<00:00,  5.10it/s, Train loss=0.03563, Train accuracy=0.98895]\n",
      "Processing validation epoch [47 / 120]: 100%|███| 33/33 [00:06<00:00,  5.25it/s, Val loss=0.08995, Val accuracy=0.97777]\n"
     ]
    },
    {
     "name": "stdout",
     "output_type": "stream",
     "text": [
      "Find the best model in Fold 1\n"
     ]
    },
    {
     "name": "stderr",
     "output_type": "stream",
     "text": [
      "Processing train epoch [48 / 120]: 100%|██| 131/131 [00:25<00:00,  5.07it/s, Train loss=0.02986, Train accuracy=0.98915]\n",
      "Processing validation epoch [48 / 120]: 100%|███| 33/33 [00:06<00:00,  5.17it/s, Val loss=0.09268, Val accuracy=0.97635]\n",
      "Processing train epoch [49 / 120]: 100%|██| 131/131 [00:26<00:00,  5.00it/s, Train loss=0.12589, Train accuracy=0.96537]\n",
      "Processing validation epoch [49 / 120]: 100%|███| 33/33 [00:06<00:00,  5.29it/s, Val loss=0.35144, Val accuracy=0.90492]\n",
      "Processing train epoch [50 / 120]: 100%|██| 131/131 [00:25<00:00,  5.14it/s, Train loss=0.25794, Train accuracy=0.91794]\n",
      "Processing validation epoch [50 / 120]: 100%|███| 33/33 [00:06<00:00,  5.09it/s, Val loss=0.42425, Val accuracy=0.88169]\n",
      "Processing train epoch [51 / 120]: 100%|██| 131/131 [00:25<00:00,  5.18it/s, Train loss=0.19081, Train accuracy=0.93802]\n",
      "Processing validation epoch [51 / 120]: 100%|███| 33/33 [00:06<00:00,  5.45it/s, Val loss=0.23354, Val accuracy=0.92578]\n",
      "Processing train epoch [52 / 120]: 100%|██| 131/131 [00:25<00:00,  5.09it/s, Train loss=0.13846, Train accuracy=0.95567]\n",
      "Processing validation epoch [52 / 120]: 100%|███| 33/33 [00:06<00:00,  5.09it/s, Val loss=0.18722, Val accuracy=0.93853]\n",
      "Processing train epoch [53 / 120]: 100%|██| 131/131 [00:25<00:00,  5.11it/s, Train loss=0.09427, Train accuracy=0.97205]\n",
      "Processing validation epoch [53 / 120]: 100%|███| 33/33 [00:06<00:00,  5.26it/s, Val loss=0.13432, Val accuracy=0.96215]\n",
      "Processing train epoch [54 / 120]: 100%|██| 131/131 [00:25<00:00,  5.04it/s, Train loss=0.10443, Train accuracy=0.96529]\n",
      "Processing validation epoch [54 / 120]: 100%|███| 33/33 [00:06<00:00,  5.35it/s, Val loss=0.11495, Val accuracy=0.96597]\n",
      "Processing train epoch [55 / 120]: 100%|██| 131/131 [00:25<00:00,  5.11it/s, Train loss=0.04968, Train accuracy=0.98131]\n",
      "Processing validation epoch [55 / 120]: 100%|███| 33/33 [00:06<00:00,  5.37it/s, Val loss=0.11888, Val accuracy=0.96878]\n",
      "Processing train epoch [56 / 120]: 100%|██| 131/131 [00:25<00:00,  5.10it/s, Train loss=0.04644, Train accuracy=0.98298]\n",
      "Processing validation epoch [56 / 120]: 100%|███| 33/33 [00:06<00:00,  5.37it/s, Val loss=0.10496, Val accuracy=0.97446]\n",
      "Processing train epoch [57 / 120]: 100%|██| 131/131 [00:25<00:00,  5.17it/s, Train loss=0.04090, Train accuracy=0.98668]\n",
      "Processing validation epoch [57 / 120]: 100%|███| 33/33 [00:06<00:00,  5.33it/s, Val loss=0.09701, Val accuracy=0.97777]\n",
      "Processing train epoch [58 / 120]: 100%|██| 131/131 [00:25<00:00,  5.10it/s, Train loss=0.04025, Train accuracy=0.98716]\n",
      "Processing validation epoch [58 / 120]: 100%|███| 33/33 [00:06<00:00,  5.44it/s, Val loss=0.09808, Val accuracy=0.97304]\n",
      "Processing train epoch [59 / 120]: 100%|██| 131/131 [00:25<00:00,  5.12it/s, Train loss=0.02972, Train accuracy=0.98950]\n",
      "Processing validation epoch [59 / 120]: 100%|███| 33/33 [00:05<00:00,  5.51it/s, Val loss=0.08957, Val accuracy=0.97633]\n",
      "Processing train epoch [60 / 120]: 100%|██| 131/131 [00:25<00:00,  5.10it/s, Train loss=0.03317, Train accuracy=0.98767]\n",
      "Processing validation epoch [60 / 120]: 100%|███| 33/33 [00:06<00:00,  5.42it/s, Val loss=0.09148, Val accuracy=0.97635]\n",
      "Processing train epoch [61 / 120]: 100%|██| 131/131 [00:25<00:00,  5.16it/s, Train loss=0.19883, Train accuracy=0.93563]\n",
      "Processing validation epoch [61 / 120]: 100%|███| 33/33 [00:06<00:00,  5.46it/s, Val loss=0.31931, Val accuracy=0.90355]\n",
      "Processing train epoch [62 / 120]: 100%|██| 131/131 [00:25<00:00,  5.18it/s, Train loss=0.17571, Train accuracy=0.94124]\n",
      "Processing validation epoch [62 / 120]: 100%|███| 33/33 [00:06<00:00,  5.12it/s, Val loss=0.17536, Val accuracy=0.95312]\n",
      "Processing train epoch [63 / 120]: 100%|██| 131/131 [00:25<00:00,  5.05it/s, Train loss=0.11735, Train accuracy=0.96088]\n",
      "Processing validation epoch [63 / 120]: 100%|███| 33/33 [00:06<00:00,  5.36it/s, Val loss=0.15209, Val accuracy=0.95410]\n",
      "Processing train epoch [64 / 120]: 100%|██| 131/131 [00:25<00:00,  5.08it/s, Train loss=0.07244, Train accuracy=0.97519]\n",
      "Processing validation epoch [64 / 120]: 100%|███| 33/33 [00:06<00:00,  5.27it/s, Val loss=0.14054, Val accuracy=0.96268]\n",
      "Processing train epoch [65 / 120]: 100%|██| 131/131 [00:26<00:00,  4.98it/s, Train loss=0.07359, Train accuracy=0.97650]\n",
      "Processing validation epoch [65 / 120]: 100%|███| 33/33 [00:06<00:00,  5.22it/s, Val loss=0.09992, Val accuracy=0.96878]\n",
      "Processing train epoch [66 / 120]: 100%|██| 131/131 [00:25<00:00,  5.13it/s, Train loss=0.05112, Train accuracy=0.98211]\n",
      "Processing validation epoch [66 / 120]: 100%|███| 33/33 [00:06<00:00,  5.15it/s, Val loss=0.13089, Val accuracy=0.96407]\n",
      "Processing train epoch [67 / 120]: 100%|██| 131/131 [00:25<00:00,  5.10it/s, Train loss=0.04390, Train accuracy=0.98581]\n",
      "Processing validation epoch [67 / 120]: 100%|███| 33/33 [00:06<00:00,  5.25it/s, Val loss=0.08767, Val accuracy=0.97491]\n",
      "Processing train epoch [68 / 120]: 100%|██| 131/131 [00:25<00:00,  5.22it/s, Train loss=0.04217, Train accuracy=0.98823]\n",
      "Processing validation epoch [68 / 120]: 100%|███| 33/33 [00:06<00:00,  5.36it/s, Val loss=0.09908, Val accuracy=0.97443]\n",
      "Processing train epoch [69 / 120]: 100%|██| 131/131 [00:25<00:00,  5.15it/s, Train loss=0.04570, Train accuracy=0.98668]\n",
      "Processing validation epoch [69 / 120]: 100%|███| 33/33 [00:06<00:00,  5.40it/s, Val loss=0.09221, Val accuracy=0.97680]\n",
      "Processing train epoch [70 / 120]: 100%|██| 131/131 [00:25<00:00,  5.06it/s, Train loss=0.03481, Train accuracy=0.98811]\n",
      "Processing validation epoch [70 / 120]: 100%|███| 33/33 [00:06<00:00,  5.34it/s, Val loss=0.08603, Val accuracy=0.97775]\n",
      "Processing train epoch [71 / 120]: 100%|██| 131/131 [00:25<00:00,  5.04it/s, Train loss=0.03522, Train accuracy=0.98664]\n",
      "Processing validation epoch [71 / 120]: 100%|███| 33/33 [00:05<00:00,  5.50it/s, Val loss=0.08512, Val accuracy=0.97730]\n"
     ]
    },
    {
     "name": "stdout",
     "output_type": "stream",
     "text": [
      "###################### Early stopped ###################### \n",
      "\n",
      "###################### Processing fold: 1 ###################### \n",
      "\n"
     ]
    },
    {
     "name": "stderr",
     "output_type": "stream",
     "text": [
      "Processing train epoch [1 / 120]: 100%|███| 131/131 [00:25<00:00,  5.14it/s, Train loss=1.15697, Train accuracy=0.61470]\n",
      "Processing validation epoch [1 / 120]: 100%|████| 33/33 [00:06<00:00,  5.31it/s, Val loss=0.92645, Val accuracy=0.68213]\n"
     ]
    },
    {
     "name": "stdout",
     "output_type": "stream",
     "text": [
      "Find the best model in Fold 2\n"
     ]
    },
    {
     "name": "stderr",
     "output_type": "stream",
     "text": [
      "Processing train epoch [2 / 120]: 100%|███| 131/131 [00:25<00:00,  5.05it/s, Train loss=0.74002, Train accuracy=0.75573]\n",
      "Processing validation epoch [2 / 120]: 100%|████| 33/33 [00:06<00:00,  5.37it/s, Val loss=0.68681, Val accuracy=0.77248]\n"
     ]
    },
    {
     "name": "stdout",
     "output_type": "stream",
     "text": [
      "Find the best model in Fold 2\n"
     ]
    },
    {
     "name": "stderr",
     "output_type": "stream",
     "text": [
      "Processing train epoch [3 / 120]: 100%|███| 131/131 [00:25<00:00,  5.11it/s, Train loss=0.56672, Train accuracy=0.81314]\n",
      "Processing validation epoch [3 / 120]: 100%|████| 33/33 [00:06<00:00,  5.34it/s, Val loss=0.50191, Val accuracy=0.83871]\n"
     ]
    },
    {
     "name": "stdout",
     "output_type": "stream",
     "text": [
      "Find the best model in Fold 2\n"
     ]
    },
    {
     "name": "stderr",
     "output_type": "stream",
     "text": [
      "Processing train epoch [4 / 120]: 100%|███| 131/131 [00:26<00:00,  5.01it/s, Train loss=0.45770, Train accuracy=0.85095]\n",
      "Processing validation epoch [4 / 120]: 100%|████| 33/33 [00:06<00:00,  5.21it/s, Val loss=0.54739, Val accuracy=0.81404]\n",
      "Processing train epoch [5 / 120]: 100%|███| 131/131 [00:26<00:00,  4.94it/s, Train loss=0.32372, Train accuracy=0.89353]\n",
      "Processing validation epoch [5 / 120]: 100%|████| 33/33 [00:06<00:00,  5.48it/s, Val loss=0.45838, Val accuracy=0.85804]\n"
     ]
    },
    {
     "name": "stdout",
     "output_type": "stream",
     "text": [
      "Find the best model in Fold 2\n"
     ]
    },
    {
     "name": "stderr",
     "output_type": "stream",
     "text": [
      "Processing train epoch [6 / 120]: 100%|███| 131/131 [00:25<00:00,  5.06it/s, Train loss=0.27732, Train accuracy=0.90824]\n",
      "Processing validation epoch [6 / 120]: 100%|████| 33/33 [00:06<00:00,  5.19it/s, Val loss=0.49124, Val accuracy=0.85431]\n",
      "Processing train epoch [7 / 120]: 100%|███| 131/131 [00:25<00:00,  5.05it/s, Train loss=0.23846, Train accuracy=0.92048]\n",
      "Processing validation epoch [7 / 120]: 100%|████| 33/33 [00:06<00:00,  5.43it/s, Val loss=0.23384, Val accuracy=0.92477]\n"
     ]
    },
    {
     "name": "stdout",
     "output_type": "stream",
     "text": [
      "Find the best model in Fold 2\n"
     ]
    },
    {
     "name": "stderr",
     "output_type": "stream",
     "text": [
      "Processing train epoch [8 / 120]: 100%|███| 131/131 [00:25<00:00,  5.05it/s, Train loss=0.15800, Train accuracy=0.94843]\n",
      "Processing validation epoch [8 / 120]: 100%|████| 33/33 [00:06<00:00,  5.33it/s, Val loss=0.19322, Val accuracy=0.94271]\n"
     ]
    },
    {
     "name": "stdout",
     "output_type": "stream",
     "text": [
      "Find the best model in Fold 2\n"
     ]
    },
    {
     "name": "stderr",
     "output_type": "stream",
     "text": [
      "Processing train epoch [9 / 120]: 100%|███| 131/131 [00:25<00:00,  5.10it/s, Train loss=0.12921, Train accuracy=0.96052]\n",
      "Processing validation epoch [9 / 120]: 100%|████| 33/33 [00:06<00:00,  4.89it/s, Val loss=0.16731, Val accuracy=0.94753]\n"
     ]
    },
    {
     "name": "stdout",
     "output_type": "stream",
     "text": [
      "Find the best model in Fold 2\n"
     ]
    },
    {
     "name": "stderr",
     "output_type": "stream",
     "text": [
      "Processing train epoch [10 / 120]: 100%|██| 131/131 [00:26<00:00,  5.01it/s, Train loss=0.09898, Train accuracy=0.97026]\n",
      "Processing validation epoch [10 / 120]: 100%|███| 33/33 [00:06<00:00,  5.04it/s, Val loss=0.13273, Val accuracy=0.95410]\n"
     ]
    },
    {
     "name": "stdout",
     "output_type": "stream",
     "text": [
      "Find the best model in Fold 2\n"
     ]
    },
    {
     "name": "stderr",
     "output_type": "stream",
     "text": [
      "Processing train epoch [11 / 120]: 100%|██| 131/131 [00:25<00:00,  5.06it/s, Train loss=0.07720, Train accuracy=0.97400]\n",
      "Processing validation epoch [11 / 120]: 100%|███| 33/33 [00:06<00:00,  5.20it/s, Val loss=0.13302, Val accuracy=0.96070]\n"
     ]
    },
    {
     "name": "stdout",
     "output_type": "stream",
     "text": [
      "Find the best model in Fold 2\n"
     ]
    },
    {
     "name": "stderr",
     "output_type": "stream",
     "text": [
      "Processing train epoch [12 / 120]: 100%|██| 131/131 [00:25<00:00,  5.10it/s, Train loss=0.06442, Train accuracy=0.97996]\n",
      "Processing validation epoch [12 / 120]: 100%|███| 33/33 [00:06<00:00,  5.35it/s, Val loss=0.12525, Val accuracy=0.96026]\n",
      "Processing train epoch [13 / 120]: 100%|██| 131/131 [00:25<00:00,  5.11it/s, Train loss=0.40542, Train accuracy=0.86991]\n",
      "Processing validation epoch [13 / 120]: 100%|███| 33/33 [00:06<00:00,  5.13it/s, Val loss=1.07551, Val accuracy=0.69912]\n",
      "Processing train epoch [14 / 120]: 100%|██| 131/131 [00:25<00:00,  5.11it/s, Train loss=0.34583, Train accuracy=0.88546]\n",
      "Processing validation epoch [14 / 120]: 100%|███| 33/33 [00:06<00:00,  5.11it/s, Val loss=0.38163, Val accuracy=0.87695]\n",
      "Processing train epoch [15 / 120]: 100%|██| 131/131 [00:25<00:00,  5.12it/s, Train loss=0.30092, Train accuracy=0.90613]\n",
      "Processing validation epoch [15 / 120]: 100%|███| 33/33 [00:06<00:00,  5.40it/s, Val loss=0.40695, Val accuracy=0.87843]\n",
      "Processing train epoch [16 / 120]: 100%|██| 131/131 [00:25<00:00,  5.09it/s, Train loss=0.27656, Train accuracy=0.90633]\n",
      "Processing validation epoch [16 / 120]: 100%|███| 33/33 [00:06<00:00,  5.30it/s, Val loss=0.28799, Val accuracy=0.90583]\n",
      "Processing train epoch [17 / 120]: 100%|██| 131/131 [00:26<00:00,  5.04it/s, Train loss=0.20385, Train accuracy=0.93352]\n",
      "Processing validation epoch [17 / 120]: 100%|███| 33/33 [00:06<00:00,  5.20it/s, Val loss=0.23846, Val accuracy=0.92199]\n",
      "Processing train epoch [18 / 120]: 100%|██| 131/131 [00:25<00:00,  5.10it/s, Train loss=0.13938, Train accuracy=0.95579]\n",
      "Processing validation epoch [18 / 120]: 100%|███| 33/33 [00:06<00:00,  5.08it/s, Val loss=0.18054, Val accuracy=0.94990]\n",
      "Processing train epoch [19 / 120]: 100%|██| 131/131 [00:25<00:00,  5.04it/s, Train loss=0.10852, Train accuracy=0.96310]\n",
      "Processing validation epoch [19 / 120]: 100%|███| 33/33 [00:06<00:00,  5.33it/s, Val loss=0.13368, Val accuracy=0.95836]\n",
      "Processing train epoch [20 / 120]: 100%|██| 131/131 [00:25<00:00,  5.06it/s, Train loss=0.09950, Train accuracy=0.96863]\n",
      "Processing validation epoch [20 / 120]: 100%|███| 33/33 [00:06<00:00,  5.28it/s, Val loss=0.11978, Val accuracy=0.96023]\n",
      "Processing train epoch [21 / 120]: 100%|██| 131/131 [00:25<00:00,  5.09it/s, Train loss=0.07563, Train accuracy=0.97332]\n",
      "Processing validation epoch [21 / 120]: 100%|███| 33/33 [00:06<00:00,  4.93it/s, Val loss=0.12554, Val accuracy=0.96354]\n"
     ]
    },
    {
     "name": "stdout",
     "output_type": "stream",
     "text": [
      "Find the best model in Fold 2\n"
     ]
    },
    {
     "name": "stderr",
     "output_type": "stream",
     "text": [
      "Processing train epoch [22 / 120]: 100%|██| 131/131 [00:26<00:00,  4.98it/s, Train loss=0.06014, Train accuracy=0.98008]\n",
      "Processing validation epoch [22 / 120]: 100%|███| 33/33 [00:06<00:00,  5.06it/s, Val loss=0.10423, Val accuracy=0.97117]\n"
     ]
    },
    {
     "name": "stdout",
     "output_type": "stream",
     "text": [
      "Find the best model in Fold 2\n"
     ]
    },
    {
     "name": "stderr",
     "output_type": "stream",
     "text": [
      "Processing train epoch [23 / 120]: 100%|██| 131/131 [00:25<00:00,  5.11it/s, Train loss=0.04881, Train accuracy=0.98549]\n",
      "Processing validation epoch [23 / 120]: 100%|███| 33/33 [00:06<00:00,  5.02it/s, Val loss=0.10373, Val accuracy=0.97159]\n"
     ]
    },
    {
     "name": "stdout",
     "output_type": "stream",
     "text": [
      "Find the best model in Fold 2\n"
     ]
    },
    {
     "name": "stderr",
     "output_type": "stream",
     "text": [
      "Processing train epoch [24 / 120]: 100%|██| 131/131 [00:25<00:00,  5.17it/s, Train loss=0.04174, Train accuracy=0.98628]\n",
      "Processing validation epoch [24 / 120]: 100%|███| 33/33 [00:06<00:00,  5.09it/s, Val loss=0.10429, Val accuracy=0.96975]\n",
      "Processing train epoch [25 / 120]: 100%|██| 131/131 [00:25<00:00,  5.07it/s, Train loss=0.27821, Train accuracy=0.91019]\n",
      "Processing validation epoch [25 / 120]: 100%|███| 33/33 [00:06<00:00,  5.34it/s, Val loss=0.47203, Val accuracy=0.86085]\n",
      "Processing train epoch [26 / 120]: 100%|██| 131/131 [00:25<00:00,  5.15it/s, Train loss=0.27219, Train accuracy=0.91078]\n",
      "Processing validation epoch [26 / 120]: 100%|███| 33/33 [00:06<00:00,  5.27it/s, Val loss=0.26451, Val accuracy=0.91625]\n",
      "Processing train epoch [27 / 120]: 100%|██| 131/131 [00:25<00:00,  5.06it/s, Train loss=0.16503, Train accuracy=0.94541]\n",
      "Processing validation epoch [27 / 120]: 100%|███| 33/33 [00:06<00:00,  5.20it/s, Val loss=0.25467, Val accuracy=0.91583]\n",
      "Processing train epoch [28 / 120]: 100%|██| 131/131 [00:25<00:00,  5.06it/s, Train loss=0.17069, Train accuracy=0.94132]\n",
      "Processing validation epoch [28 / 120]: 100%|███| 33/33 [00:06<00:00,  5.32it/s, Val loss=0.22786, Val accuracy=0.93288]\n",
      "Processing train epoch [29 / 120]: 100%|██| 131/131 [00:25<00:00,  5.11it/s, Train loss=0.15298, Train accuracy=0.94855]\n",
      "Processing validation epoch [29 / 120]: 100%|███| 33/33 [00:06<00:00,  5.33it/s, Val loss=0.20088, Val accuracy=0.93475]\n",
      "Processing train epoch [30 / 120]: 100%|██| 131/131 [00:25<00:00,  5.06it/s, Train loss=0.13049, Train accuracy=0.95837]\n",
      "Processing validation epoch [30 / 120]: 100%|███| 33/33 [00:06<00:00,  5.33it/s, Val loss=0.19875, Val accuracy=0.93803]\n",
      "Processing train epoch [31 / 120]:  63%|█▉ | 82/131 [00:16<00:09,  4.94it/s, Train loss=0.07447, Train accuracy=0.97428]"
     ]
    }
   ],
   "source": [
    "train()"
   ]
  },
  {
   "cell_type": "code",
   "execution_count": null,
   "metadata": {},
   "outputs": [],
   "source": [
    "def predict(loader, k_fold):\n",
    "    predictions = []\n",
    "    for i in range(k_fold):\n",
    "        tmp_prediction = []\n",
    "\n",
    "        model_path = best_model_save_path + 'Fold_' + str(i + 1) + '.ckpt'\n",
    "\n",
    "        model = models.resnet34(pretrained = False)\n",
    "        model.fc = nn.Sequential(\n",
    "            nn.Dropout(0.2),\n",
    "            nn.Linear(model.fc.in_features, 10)\n",
    "        )\n",
    "        model.load_state_dict(torch.load(model_path))\n",
    "        model = model.to(device)\n",
    "        model.eval()\n",
    "\n",
    "        pbar = tqdm(loader, ncols = 120)\n",
    "        for image, _ in pbar:\n",
    "            image = image.to(device)\n",
    "            with torch.no_grad():\n",
    "                prediction = model(image)\n",
    "                tmp_prediction.append(prediction.detach().cpu())\n",
    "            pbar.set_description(f\"###################### Processing test fold {i + 1} ######################\")\n",
    "\n",
    "        predictions.append(torch.cat(tmp_prediction, dim = 0))\n",
    "\n",
    "    return sum(predictions)"
   ]
  },
  {
   "cell_type": "code",
   "execution_count": null,
   "metadata": {},
   "outputs": [],
   "source": [
    "def test():\n",
    "    augmented_loaders = []\n",
    "    test_data = Paddy(files_name = test_files_name, transform = test_transform, mode = \"test\")\n",
    "    test_loader = DataLoader(test_data, batch_size = batch_size, shuffle = False, num_workers = 2, pin_memory = True)\n",
    "    ### Test time augmentation\n",
    "    augmented_loaders.append(test_loader)\n",
    "    for _ in range(5):\n",
    "        augmented_data = Paddy(files_name = test_files_name, transform = train_transform, mode = \"test\")\n",
    "        augmented_loaders.append(DataLoader(augmented_data, batch_size = batch_size, shuffle = False, num_workers = 2, pin_memory = True))\n",
    "        \n",
    "    predictions = []\n",
    "    for _, loader in enumerate(augmented_loaders):\n",
    "        prediction = predict(loader, K_fold)\n",
    "        predictions.append(prediction)\n",
    "\n",
    "    augmented_prediction = 0.5 * predictions[0]\n",
    "    for i in range(1, len(predictions)):\n",
    "        augmented_prediction += 0.1 * predictions[i]\n",
    "    \n",
    "    augmented_pred = augmented_prediction.argmax(dim = 1)\n",
    "\n",
    "    print(augmented_pred)\n",
    "    print(np.unique(augmented_pred))\n",
    "\n",
    "    return augmented_pred"
   ]
  },
  {
   "cell_type": "code",
   "execution_count": null,
   "metadata": {},
   "outputs": [],
   "source": [
    "paddy_dict = {0: 'bacterial_leaf_blight', \n",
    "              1: 'bacterial_leaf_streak', \n",
    "              2: 'bacterial_panicle_blight',\n",
    "              3: 'blast', \n",
    "              4: 'brown_spot', \n",
    "              5: 'dead_heart', \n",
    "              6: 'downy_mildew', \n",
    "              7: 'hispa', \n",
    "              8: 'normal', \n",
    "              9: 'tungro'\n",
    "              }\n",
    "\n",
    "augmented_pred = test()\n",
    "print(f'Shape of the prediction is: {augmented_pred.shape}')"
   ]
  },
  {
   "cell_type": "code",
   "execution_count": null,
   "metadata": {},
   "outputs": [],
   "source": [
    "test_path = os.listdir(Test_path)\n",
    "with open('./submission.csv', 'w') as f:\n",
    "    f.write('image_id,label\\n')\n",
    "    for id, label in enumerate(augmented_pred):\n",
    "        f.write(f'{test_path[id]},{paddy_dict[label.item()]}\\n')"
   ]
  }
 ],
 "metadata": {
  "kernelspec": {
   "display_name": "Python 3.7.13 ('ML_tor')",
   "language": "python",
   "name": "python3"
  },
  "language_info": {
   "codemirror_mode": {
    "name": "ipython",
    "version": 3
   },
   "file_extension": ".py",
   "mimetype": "text/x-python",
   "name": "python",
   "nbconvert_exporter": "python",
   "pygments_lexer": "ipython3",
   "version": "3.7.13"
  },
  "vscode": {
   "interpreter": {
    "hash": "e692e3618cbd9960915f3e81d6da23d7cccc09930cac5be30800b28df0dde2a6"
   }
  }
 },
 "nbformat": 4,
 "nbformat_minor": 4
}
